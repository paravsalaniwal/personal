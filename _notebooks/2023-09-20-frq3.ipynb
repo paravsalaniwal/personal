{
 "cells": [
  {
   "cell_type": "markdown",
   "metadata": {},
   "source": [
    "---\n",
    "layout: post\n",
    "title: FRQ 3 Array/ArrayList\n",
    "description: A guide made by me to demonstrate a walk-through of FRQ 3 (Array/ArrayList) from the 2009 APCSA Exam.\n",
    "courses: { csa: {week: 4} }\n",
    "type: hacks\n",
    "toc: true\n",
    "---"
   ]
  },
  {
   "cell_type": "markdown",
   "metadata": {},
   "source": [
    "## [Link to Full Exam](https://secure-media.collegeboard.org/apc/ap09_frq_computer_science_a.pdf)"
   ]
  },
  {
   "cell_type": "markdown",
   "metadata": {},
   "source": [
    "## Question Prompt:\n",
    "![](https://github.com/paravsalaniwal/personal/assets/111609656/5110eec6-a471-4040-9f10-403e483e1712)"
   ]
  },
  {
   "cell_type": "markdown",
   "metadata": {},
   "source": [
    "## Part A\n",
    "![](https://github.com/paravsalaniwal/personal/assets/111609656/3a3a31bf-435f-4832-9c4c-aea4ad7b5978)"
   ]
  },
  {
   "cell_type": "markdown",
   "metadata": {},
   "source": [
    "### How to Solve\n",
    "\n",
    "**Step 1: Understand the Problem**\n",
    "\n",
    "You need to implement a method ```getCubeTosses``` that records the results of tossing a number cube a specified number of times.\n",
    "\n",
    "**Step 2: Identify Inputs and Outputs**\n",
    "\n",
    "Identify what information you're given and what you need to produce. In this problem, you're given:\n",
    "- A ```NumberCube``` object (```cube```) for simulating cube tosses.\n",
    "- The number of tosses to be recorded (```numTosses```).\n",
    "\n",
    "You need to produce:\n",
    "- An array of integer values representing the results of the cube tosses.\n",
    "\n",
    "**Step 3: Plan the Approach**\n",
    "\n",
    "Think about how you can achieve the desired output using the given inputs. \n",
    "\n",
    "In this case, you need to create an array to store the results.\n",
    "\n",
    "You'll use a loop to toss the cube the specified number of times and record the results in the array.\n",
    "\n",
    "Finally, you'll return the array as the output."
   ]
  },
  {
   "cell_type": "code",
   "execution_count": null,
   "metadata": {
    "vscode": {
     "languageId": "java"
    }
   },
   "outputs": [],
   "source": [
    "public static int[] getCubeTosses(NumberCube cube, int numTosses) \n",
    "{\n",
    "    int[] cubeTosses = new int[numTosses];   // create an array to store the results of cube tosses    1\n",
    "    for (int i = 0; i < numTosses; i++)     // loops through the desired number of tosses wanted\n",
    "    {\n",
    "        int tossResult = cube.toss();    // simulate a single toss of the cube using the 'toss' method of the 'cube' object\n",
    "        cubeTosses[i] = tossResult;    // store the result of the toss in the 'cubeTosses' array at the current index 'i'    2 & 3\n",
    "    }\n",
    "    return cubeTosses;     // return the array containing the results of all cube tosses   4\n",
    "}\n"
   ]
  },
  {
   "cell_type": "markdown",
   "metadata": {},
   "source": [
    "### Scoring Rubric for Part A\n",
    "\n",
    "| Points | Criteria |\n",
    "|-|-|\n",
    "| 1 | Returns array of generated results |\n",
    "| 1 | Assigns values from cube.toss () to each location in the array |\n",
    "| 1 | Calls cube.toss () |\n",
    "| 1 | Constructs an Array of int types with size numlosses |\n",
    "|-|-|\n",
    "| Total Points | 4 |"
   ]
  },
  {
   "cell_type": "markdown",
   "metadata": {},
   "source": [
    "## Part B\n",
    "![](https://github.com/paravsalaniwal/personal/assets/111609656/e5c2bcd0-1edf-41c5-9674-4114274f9d97)"
   ]
  },
  {
   "cell_type": "markdown",
   "metadata": {},
   "source": [
    "### How to Solve\n",
    "**Step 1: Understand the Problem**\n",
    "\n",
    "You need to find the starting index of the longest run of consecutive repeated values in an array of number cube toss results.\n",
    "\n",
    "**Step 2: Identify Inputs and Outputs**\n",
    "\n",
    "Identify the inputs (parameters) and outputs (return values) of the function/method you need to write.\n",
    "\n",
    "Input: An array of integer values (```values```).\n",
    "Output: The starting index of the longest run.\n",
    "\n",
    "**Step 3: Plan the Approach**\n",
    "\n",
    "Plan how to solve the problem. In this case:\n",
    "Initialize variables to keep track of the current run's length (```currentLen```), the longest run's length (```maxLen```), and the starting index of the longest run (```maxStart```).\n",
    "\n",
    "Use a loop to iterate through the array, comparing each element with the next one.\n",
    "\n",
    "Update ```currentLen``` and ```maxLen``` as needed based on the comparison results.\n",
    "\n",
    "Keep track of the starting index of the current run (```currentRunStartIndex```) to calculate maxStart accurately."
   ]
  },
  {
   "cell_type": "code",
   "execution_count": null,
   "metadata": {
    "vscode": {
     "languageId": "java"
    }
   },
   "outputs": [],
   "source": [
    "public static int getLongestRun(int[] values) {\n",
    "    int currentLen = 0;    // the length of the current run\n",
    "    int maxLen = 0;        // the length of the longest run found\n",
    "    int maxStart = -1;     // the starting index of the longest run\n",
    "    for (int i = 0; i < values.length - 1; i++) {      // iterate through the 'values' array, comparing adjacent elements\n",
    "        if (values[i] == values[i + 1]) {      // if the current element is the same as the next element then it's part of a run\n",
    "            currentLen++;\n",
    "            if (currentLen > maxLen) {                  // check if the current run is longer than the longest run found so far\n",
    "                maxLen = currentLen;              // update the length of the longest run\n",
    "                maxStart = i - currentLen + 1;       // update the starting index of the longest run\n",
    "            }\n",
    "        } else {\n",
    "            currentLen = 0;       // reset the length of the current run\n",
    "        }\n",
    "    }     \n",
    "    return maxStart;    // return the starting index of the longest run (or -1 if undefined)\n",
    "}"
   ]
  },
  {
   "cell_type": "markdown",
   "metadata": {},
   "source": [
    "### Scoring Rubric for Part B\n",
    "\n",
    "| Points | Criteria |\n",
    "|-|-|\n",
    "| 1 | Accesses every element of values. |\n",
    "| 1 | Determines the existence of run of consecutive elements |\n",
    "| 1 | Determines the length of at least one run of consecutive elements |\n",
    "| 1 | Identifies the maximum length run based on all runs |\n",
    "| 1 | Returns index of identified maximum length run or -1 if no run identified |\n",
    "|-|-|\n",
    "| Total Points | 5 |"
   ]
  },
  {
   "cell_type": "markdown",
   "metadata": {},
   "source": [
    "## Overall Blog\n",
    "\n",
    "One particular challenge I faced was with correctly initializing and updating variables within the code. Specifically, I had difficulty tracking the starting index and length of the longest run of repeated values in the array. This led to incorrect results when I attempted to find the longest run. To help me understand and fix this issue in this FRQ, I was able to find Collegeboard videos to help me as well as people on Youtube analyzing and demonstrating how to solve APCSA FRQs. This helped me understand more about how Java Arrays actually work and helped me fix the concept difficulty I had with the variables."
   ]
  },
  {
   "cell_type": "markdown",
   "metadata": {},
   "source": [
    "<style>\n",
    "      th, td {\n",
    "          border: 1.5px dashed #ff8200;\n",
    "          padding: 10px 10px;\n",
    "          text-align: center;\n",
    "          width: 333px;\n",
    "      }\n",
    "      th {\n",
    "          background-color: #333;\n",
    "          color: #ffffff;\n",
    "      }\n",
    "      td {\n",
    "          color: #ff8200;\n",
    "        }\n",
    "    h1 {\n",
    "        text-align: center;\n",
    "        font-size: 35px;\n",
    "        color: #FF8200;\n",
    "    }\n",
    "</style>"
   ]
  }
 ],
 "metadata": {
  "kernelspec": {
   "display_name": "Java",
   "language": "java",
   "name": "java"
  },
  "language_info": {
   "codemirror_mode": "java",
   "file_extension": ".jshell",
   "mimetype": "text/x-java-source",
   "name": "Java",
   "pygments_lexer": "java",
   "version": "20.0.1"
  },
  "orig_nbformat": 4
 },
 "nbformat": 4,
 "nbformat_minor": 2
}
