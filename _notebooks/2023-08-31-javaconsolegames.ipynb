{
 "cells": [
  {
   "cell_type": "markdown",
   "metadata": {},
   "source": [
    "---\n",
    "layout: default\n",
    "title: Java Console Games\n",
    "courses: { csa: {week: 1} }\n",
    "type: hacks\n",
    "permalink: /javaconsolegames\n",
    "---"
   ]
  },
  {
   "cell_type": "code",
   "execution_count": 20,
   "metadata": {
    "vscode": {
     "languageId": "java"
    }
   },
   "outputs": [
    {
     "name": "stdout",
     "output_type": "stream",
     "text": [
      "Welcome to the Number Guessing Game!\n",
      "Try to guess the secret number between 1 and 100.\n",
      "You have 10 attempts.\n",
      "Enter your guess: Your guess is too low. You have 9 attempts left.\n",
      "Enter your guess: Your guess is too high. You have 8 attempts left.\n",
      "Enter your guess: Your guess is too high. You have 7 attempts left.\n",
      "Enter your guess: Your guess is too low. You have 6 attempts left.\n",
      "Enter your guess: Your guess is too high. You have 5 attempts left.\n",
      "Enter your guess: Your guess is too high. You have 4 attempts left.\n",
      "Enter your guess: Congratulations! You've guessed the number: 29\n"
     ]
    }
   ],
   "source": [
    "import java.util.Scanner;\n",
    "\n",
    "public class NumberGuessingGame {\n",
    "\n",
    "    public static void main(String[] args) {\n",
    "        Scanner scanner = new Scanner(System.in);\n",
    "\n",
    "        int secretNumber = (int) (Math.random() * 100) + 1;\n",
    "        int maxAttempts = 10;\n",
    "        int attempts = 0;\n",
    "        boolean hasGuessedCorrectly = false;\n",
    "\n",
    "        System.out.println(\"Welcome to the Number Guessing Game!\");\n",
    "        System.out.println(\"Try to guess the secret number between 1 and 100.\");\n",
    "        System.out.println(\"You have \" + maxAttempts + \" attempts.\");\n",
    "\n",
    "        while (attempts < maxAttempts) {\n",
    "            System.out.print(\"Enter your guess: \");\n",
    "            int guess = scanner.nextInt();\n",
    "\n",
    "            if (guess == secretNumber) {\n",
    "                System.out.println(\"Congratulations! You've guessed the number: \" + secretNumber);\n",
    "                hasGuessedCorrectly = true;\n",
    "                break;\n",
    "            } else if (guess < secretNumber) {\n",
    "                System.out.println(\"Your guess is too low. You have \" + (maxAttempts - attempts - 1) + \" attempts left.\");\n",
    "            } else {\n",
    "                System.out.println(\"Your guess is too high. You have \" + (maxAttempts - attempts - 1) + \" attempts left.\");\n",
    "            }\n",
    "\n",
    "            attempts++;\n",
    "        }\n",
    "\n",
    "        if (!hasGuessedCorrectly) {\n",
    "            System.out.println(\"Game over! The secret number was: \" + secretNumber);\n",
    "        }\n",
    "\n",
    "        scanner.close();\n",
    "    }\n",
    "}\n",
    "NumberGuessingGame.main(null);"
   ]
  }
 ],
 "metadata": {
  "kernelspec": {
   "display_name": "Java",
   "language": "java",
   "name": "java"
  },
  "language_info": {
   "codemirror_mode": "java",
   "file_extension": ".jshell",
   "mimetype": "text/x-java-source",
   "name": "Java",
   "pygments_lexer": "java",
   "version": "20.0.1"
  },
  "orig_nbformat": 4
 },
 "nbformat": 4,
 "nbformat_minor": 2
}
