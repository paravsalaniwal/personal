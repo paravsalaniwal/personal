{
 "cells": [
  {
   "cell_type": "markdown",
   "metadata": {},
   "source": [
    "---\n",
    "layout: post\n",
    "title: Unit 2 Lesson Hacks\n",
    "description: The hacks for Unit 2 Lesson\n",
    "permalink: /unit2hacks\n",
    "toc: true\n",
    "---"
   ]
  },
  {
   "cell_type": "markdown",
   "metadata": {},
   "source": [
    "# Hack 1"
   ]
  },
  {
   "cell_type": "code",
   "execution_count": 7,
   "metadata": {},
   "outputs": [
    {
     "name": "stdout",
     "output_type": "stream",
     "text": [
      "Element at index 1: 20\n"
     ]
    }
   ],
   "source": [
    "import java.util.ArrayList;\n",
    "\n",
    "public class ArrayListExample {\n",
    "    private ArrayList<Integer> myArrayList = new ArrayList<>();\n",
    "\n",
    "    public void addToArrayList(int value) {\n",
    "        myArrayList.add(value);\n",
    "    }\n",
    "\n",
    "    public int getElementAtIndex(int index) {\n",
    "        if (index >= 0 && index < myArrayList.size()) {\n",
    "            return myArrayList.get(index);\n",
    "        } else {\n",
    "            throw new IndexOutOfBoundsException(\"Index is out of bounds.\");\n",
    "        }\n",
    "    }\n",
    "\n",
    "    public static void main(String[] args) {\n",
    "        ArrayListExample example = new ArrayListExample();\n",
    "\n",
    "        example.addToArrayList(10);\n",
    "        example.addToArrayList(20);\n",
    "        example.addToArrayList(30);\n",
    "\n",
    "        int elementAtIndex = example.getElementAtIndex(1);\n",
    "        System.out.println(\"Element at index 1: \" + elementAtIndex);\n",
    "    }\n",
    "}\n",
    "ArrayListExample.main(null)"
   ]
  },
  {
   "cell_type": "markdown",
   "metadata": {},
   "source": [
    "# Hack 2"
   ]
  },
  {
   "cell_type": "code",
   "execution_count": 8,
   "metadata": {},
   "outputs": [
    {
     "name": "stdout",
     "output_type": "stream",
     "text": [
      "Welcome to the Simple Math Guessing Game!\n",
      "I have a number in mind, and you need to guess both the base and exponent.\n",
      "Enter your guess for the base: Enter your guess for the exponent: Sorry, that's not correct. Try again!\n",
      "Enter your guess for the base: Enter your guess for the exponent: Sorry, that's not correct. Try again!\n",
      "Enter your guess for the base: Enter your guess for the exponent: Sorry, that's not correct. Try again!\n",
      "Enter your guess for the base: Enter your guess for the exponent: Sorry, that's not correct. Try again!\n",
      "Enter your guess for the base: Enter your guess for the exponent: Sorry, that's not correct. Try again!\n",
      "Enter your guess for the base: Enter your guess for the exponent: Sorry, that's not correct. Try again!\n",
      "Enter your guess for the base: Enter your guess for the exponent: Sorry, that's not correct. Try again!\n",
      "Enter your guess for the base: "
     ]
    }
   ],
   "source": [
    "import java.util.Random;\n",
    "import java.util.Scanner;\n",
    "\n",
    "public class SimpleMathGuessingGame {\n",
    "    public static void main(String[] args) {\n",
    "        Random random = new Random();\n",
    "        int base = random.nextInt(9) + 2; // random base between 2 and 10 (inclusive)\n",
    "        int exponent = random.nextInt(4) + 2; // random exponent between 2 and 5 (inclusive)\n",
    "        double result = Math.pow(base, exponent);\n",
    "\n",
    "        Scanner scanner = new Scanner(System.in);\n",
    "        int attempts = 0;\n",
    "        boolean guessed = false;\n",
    "\n",
    "        System.out.println(\"Welcome to the Simple Math Guessing Game!\");\n",
    "        System.out.println(\"I have a number in mind, and you need to guess both the base and exponent.\");\n",
    "\n",
    "        while (!guessed) {\n",
    "            System.out.print(\"Enter your guess for the base: \");\n",
    "            int guessedBase = scanner.nextInt();\n",
    "\n",
    "            System.out.print(\"Enter your guess for the exponent: \");\n",
    "            int guessedExponent = scanner.nextInt();\n",
    "\n",
    "            attempts++;\n",
    "\n",
    "            if (guessedBase == base && guessedExponent == exponent) {\n",
    "                guessed = true;\n",
    "                System.out.println(\"Congratulations! You guessed it!\");\n",
    "                System.out.println(\"It took you \" + attempts + \" attempts.\");\n",
    "            } else {\n",
    "                System.out.println(\"Sorry, that's not correct. Try again!\");\n",
    "            }\n",
    "        }\n",
    "\n",
    "        scanner.close();\n",
    "    }\n",
    "}\n",
    "SimpleMathGuessingGame.main(null)"
   ]
  },
  {
   "cell_type": "markdown",
   "metadata": {},
   "source": [
    "# Hack 3"
   ]
  },
  {
   "cell_type": "code",
   "execution_count": 2,
   "metadata": {},
   "outputs": [
    {
     "name": "stdout",
     "output_type": "stream",
     "text": [
      "Int Value: 42\n",
      "Boolean Value: true\n",
      "String Value: Hello, World!\n",
      "Double Value: 3.14\n"
     ]
    }
   ],
   "source": [
    "public class MyClass {\n",
    "    private int intValue;\n",
    "    private boolean boolValue;\n",
    "    private String stringValue;\n",
    "    private double doubleValue;\n",
    "\n",
    "    public MyClass(int intValue, boolean boolValue, String stringValue, double doubleValue) {\n",
    "        this.intValue = intValue;\n",
    "        this.boolValue = boolValue;\n",
    "        this.stringValue = stringValue;\n",
    "        this.doubleValue = doubleValue;\n",
    "    }\n",
    "\n",
    "    public int getIntValue() {\n",
    "        return intValue;\n",
    "    }\n",
    "\n",
    "    public boolean getBoolValue() {\n",
    "        return boolValue;\n",
    "    }\n",
    "\n",
    "    public String getStringValue() {\n",
    "        return stringValue;\n",
    "    }\n",
    "\n",
    "    public double getDoubleValue() {\n",
    "        return doubleValue;\n",
    "    }\n",
    "\n",
    "    public static void main(String[] args) {\n",
    "        MyClass myObject = new MyClass(42, true, \"Hello, World!\", 3.14);\n",
    "\n",
    "        System.out.println(\"Int Value: \" + myObject.getIntValue());\n",
    "        System.out.println(\"Boolean Value: \" + myObject.getBoolValue());\n",
    "        System.out.println(\"String Value: \" + myObject.getStringValue());\n",
    "        System.out.println(\"Double Value: \" + myObject.getDoubleValue());\n",
    "    }\n",
    "}\n",
    "MyClass.main(null)"
   ]
  },
  {
   "cell_type": "markdown",
   "metadata": {},
   "source": [
    "# Hack 4"
   ]
  },
  {
   "cell_type": "code",
   "execution_count": 4,
   "metadata": {},
   "outputs": [
    {
     "name": "stdout",
     "output_type": "stream",
     "text": [
      "First Name: Parav\n",
      "Last Name: Salaniwal\n"
     ]
    }
   ],
   "source": [
    "public class PersonName {\n",
    "    private String fullName;\n",
    "\n",
    "    public PersonName(String fullName) {\n",
    "        this.fullName = fullName;\n",
    "    }\n",
    "\n",
    "    public String getFirstName() {\n",
    "        int spaceIndex = fullName.indexOf(' ');\n",
    "        if (spaceIndex != -1) {\n",
    "            return fullName.substring(0, spaceIndex);\n",
    "        } else {\n",
    "            return fullName; \n",
    "        }\n",
    "    }\n",
    "\n",
    "    public String getLastName() {\n",
    "        int spaceIndex = fullName.indexOf(' ');\n",
    "        if (spaceIndex != -1) {\n",
    "            return fullName.substring(spaceIndex + 1);\n",
    "        } else {\n",
    "            return \"\"; \n",
    "        }\n",
    "    }\n",
    "\n",
    "    public static void main(String[] args) {\n",
    "        PersonName person = new PersonName(\"Parav Salaniwal\");\n",
    "\n",
    "        System.out.println(\"First Name: \" + person.getFirstName()); \n",
    "        System.out.println(\"Last Name: \" + person.getLastName());  \n",
    "    }\n",
    "}\n",
    "PersonName.main(null)"
   ]
  }
 ],
 "metadata": {
  "kernelspec": {
   "display_name": "Java",
   "language": "java",
   "name": "java"
  },
  "language_info": {
   "codemirror_mode": "java",
   "file_extension": ".jshell",
   "mimetype": "text/x-java-source",
   "name": "java",
   "pygments_lexer": "java",
   "version": "20.0.1"
  },
  "orig_nbformat": 4
 },
 "nbformat": 4,
 "nbformat_minor": 2
}
