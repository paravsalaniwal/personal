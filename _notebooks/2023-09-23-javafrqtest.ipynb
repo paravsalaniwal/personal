{
 "cells": [
  {
   "cell_type": "markdown",
   "metadata": {},
   "source": [
    "---\n",
    "layout: post\n",
    "title: Java FRQ Test\n",
    "description: FRQ Test from Mort\n",
    "---"
   ]
  },
  {
   "cell_type": "code",
   "execution_count": 14,
   "metadata": {},
   "outputs": [
    {
     "name": "stdout",
     "output_type": "stream",
     "text": [
      "10 9 8 7 6 5 4 3 2 1 1 2 3 4 5 6 7 8 9 10 "
     ]
    }
   ],
   "source": [
    "public class ReverseArray {\n",
    "    public static void main(String[] args) {\n",
    "        int[] arr = reverseArray();\n",
    "        \n",
    "        for (int i = 0; i < arr.length; i++) {\n",
    "            System.out.print(arr[i] + \" \");\n",
    "        }\n",
    "\n",
    "        for (int i = arr.length - 1; i >= 0; i--) {\n",
    "            System.out.print(arr[i] + \" \");\n",
    "        }\n",
    "    }\n",
    "\n",
    "    public static int[] reverseArray() {\n",
    "        int[] array = new int[10];\n",
    "        for (int i = 0; i < 10; i++) {\n",
    "            array[i] = 10 - i;\n",
    "        }\n",
    "        return array;\n",
    "    }\n",
    "}\n",
    "\n",
    "ReverseArray.main(null)"
   ]
  },
  {
   "cell_type": "code",
   "execution_count": 22,
   "metadata": {},
   "outputs": [
    {
     "name": "stdout",
     "output_type": "stream",
     "text": [
      "0 \n",
      "7 8 9 \n",
      "4 5 6 \n",
      "1 2 3 \n"
     ]
    }
   ],
   "source": [
    "public class NumericKeypad {\n",
    "\n",
    "    public static void main(String[] args) {\n",
    "        char[][] keypad = initializeKeypad();\n",
    "        printUpsideDown(keypad);\n",
    "    }\n",
    "\n",
    "    public static char[][] initializeKeypad() {\n",
    "        char[][] keypad = {\n",
    "            {'1', '2', '3'},\n",
    "            {'4', '5', '6'},\n",
    "            {'7', '8', '9'},\n",
    "            {'0'}\n",
    "        };\n",
    "        return keypad;\n",
    "    }\n",
    "\n",
    "    public static void printUpsideDown(char[][] keypad) {\n",
    "        for (int i = keypad.length - 1; i >= 0; i--) {\n",
    "            for (int j = 0; j < keypad[i].length; j++) {\n",
    "                System.out.print(keypad[i][j] + \" \");\n",
    "            }\n",
    "            System.out.println();\n",
    "        }\n",
    "    }\n",
    "}\n",
    "\n",
    "NumericKeypad.main(null)"
   ]
  }
 ],
 "metadata": {
  "kernelspec": {
   "display_name": "Java",
   "language": "java",
   "name": "java"
  },
  "language_info": {
   "codemirror_mode": "java",
   "file_extension": ".jshell",
   "mimetype": "text/x-java-source",
   "name": "java",
   "pygments_lexer": "java",
   "version": "20.0.1"
  },
  "orig_nbformat": 4
 },
 "nbformat": 4,
 "nbformat_minor": 2
}
